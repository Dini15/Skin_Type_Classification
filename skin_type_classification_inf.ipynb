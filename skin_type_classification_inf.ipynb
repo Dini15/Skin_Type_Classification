{
  "cells": [
    {
      "cell_type": "markdown",
      "metadata": {
        "id": "Bcrt30KTorb-"
      },
      "source": [
        "# 1. Import Libraries"
      ]
    },
    {
      "cell_type": "code",
      "execution_count": null,
      "metadata": {
        "id": "8Z3iaY8eo9b3"
      },
      "outputs": [],
      "source": [
        "from tensorflow.keras.models import load_model\n",
        "import numpy as np\n",
        "import cv2\n",
        "from google.colab import drive\n",
        "from google.colab import files\n",
        "from tensorflow.keras.utils import load_img, img_to_array\n",
        "from tensorflow.keras.applications.vgg16 import preprocess_input\n",
        "from tensorflow.keras.preprocessing.image import load_img, img_to_array"
      ]
    },
    {
      "cell_type": "markdown",
      "metadata": {
        "id": "iJF5404uojGV"
      },
      "source": [
        "# 2. Load Model"
      ]
    },
    {
      "cell_type": "code",
      "execution_count": null,
      "metadata": {
        "colab": {
          "base_uri": "https://localhost:8080/"
        },
        "id": "h_2CNujVuUlt",
        "outputId": "0be44719-e534-429a-a806-c4effd7ee954"
      },
      "outputs": [
        {
          "name": "stdout",
          "output_type": "stream",
          "text": [
            "Mounted at /content/drive\n"
          ]
        }
      ],
      "source": [
        "drive.mount('/content/drive', force_remount=True)\n",
        "img_path='/content/drive/MyDrive/normal.jpg'"
      ]
    },
    {
      "cell_type": "code",
      "execution_count": null,
      "metadata": {
        "colab": {
          "base_uri": "https://localhost:8080/"
        },
        "id": "jQCOrmixvYOR",
        "outputId": "f6ca6f65-acf1-43e9-ffcb-1d14705f2bed"
      },
      "outputs": [
        {
          "data": {
            "text/plain": [
              "<Sequential name=sequential, built=True>"
            ]
          },
          "execution_count": 91,
          "metadata": {},
          "output_type": "execute_result"
        }
      ],
      "source": [
        "model = load_model('/content/drive/MyDrive/model_aug.keras')\n",
        "model"
      ]
    },
    {
      "cell_type": "markdown",
      "metadata": {
        "id": "6vRB_r18ov5L"
      },
      "source": [
        "# 3. Preprocessing for Inference"
      ]
    },
    {
      "cell_type": "code",
      "execution_count": null,
      "metadata": {
        "id": "T_okav_1w61H"
      },
      "outputs": [],
      "source": [
        "# Parameter preprocessing\n",
        "img_height = 224  # Sesuaikan dengan ukuran gambar model\n",
        "img_width = 224   # Sesuaikan dengan ukuran gambar model\n",
        "\n",
        "def preprocess_image(img_path):\n",
        "    # Load gambar dan ubah ukurannya\n",
        "    img = load_img(img_path, target_size=(img_height, img_width))\n",
        "    # Konversi ke array\n",
        "    img_array = img_to_array(img) / 255.0  # Normalisasi seperti saat training\n",
        "    # Tambahkan batch dimension\n",
        "    img_array = np.expand_dims(img_array, axis=0)\n",
        "    return img_array"
      ]
    },
    {
      "cell_type": "markdown",
      "metadata": {
        "id": "_dkJPnMPo3vt"
      },
      "source": [
        "# 4. Predictions with Model"
      ]
    },
    {
      "cell_type": "code",
      "execution_count": null,
      "metadata": {
        "id": "wM2DL1Z9w_cg"
      },
      "outputs": [],
      "source": [
        "def predict_image(model, img_path, class_labels):\n",
        "    # Preprocessing gambar\n",
        "    processed_img = preprocess_image(img_path)\n",
        "    # Lakukan prediksi\n",
        "    prediction = model.predict(processed_img)\n",
        "    # Ambil kelas dengan probabilitas tertinggi\n",
        "    predicted_class = np.argmax(prediction, axis=1)[0]\n",
        "    # Kembalikan hasil prediksi\n",
        "    return class_labels[predicted_class], prediction\n"
      ]
    },
    {
      "cell_type": "code",
      "execution_count": null,
      "metadata": {
        "id": "3iRB-02_0xEE"
      },
      "outputs": [],
      "source": [
        "def predict_image(model, img_path, class_labels):\n",
        "\n",
        "    # Muat gambar\n",
        "    img = load_img(img_path, target_size=(220, 220))  # Sesuaikan ukuran gambar\n",
        "    img_array = img_to_array(img)\n",
        "    img_array = np.expand_dims(img_array, axis=0)  # Tambahkan dimensi batch\n",
        "\n",
        "    # Preprocess gambar\n",
        "    img_array = preprocess_input(img_array)\n",
        "\n",
        "    # Prediksi\n",
        "    probabilities = model.predict(img_array)[0]  # Ambil probabilitas dari batch pertama\n",
        "    predicted_index = np.argmax(probabilities)  # Index kelas dengan probabilitas tertinggi\n",
        "    predicted_class = class_labels[predicted_index]\n",
        "\n",
        "    return predicted_class, probabilities\n"
      ]
    },
    {
      "cell_type": "markdown",
      "metadata": {
        "id": "x9s2VQQYpbzR"
      },
      "source": [
        "# 5. Mapping Class Index to Class Name"
      ]
    },
    {
      "cell_type": "code",
      "execution_count": null,
      "metadata": {
        "colab": {
          "base_uri": "https://localhost:8080/"
        },
        "id": "tUyF7x9601i8",
        "outputId": "297c6a99-4f46-4168-f19a-2e901f970f49"
      },
      "outputs": [
        {
          "name": "stdout",
          "output_type": "stream",
          "text": [
            "\u001b[1m1/1\u001b[0m \u001b[32m━━━━━━━━━━━━━━━━━━━━\u001b[0m\u001b[37m\u001b[0m \u001b[1m1s\u001b[0m 792ms/step\n",
            "Predicted class: normal\n",
            "Class probabilities: [0.05751768 0.25696653 0.68551576]\n"
          ]
        }
      ],
      "source": [
        "predicted_class, probabilities = predict_image(model, img_path, class_labels)\n",
        "print(f\"Predicted class: {predicted_class}\")\n",
        "print(f\"Class probabilities: {probabilities}\")\n"
      ]
    },
    {
      "cell_type": "markdown",
      "metadata": {
        "id": "SPFivQJD2h-l"
      },
      "source": [
        "Model memprediksi gambar pada kelas normal dengan probabilitas 5%. Model dapat memprediksi gambar pada kelas yang benar"
      ]
    }
  ],
  "metadata": {
    "colab": {
      "provenance": []
    },
    "kernelspec": {
      "display_name": "Python 3",
      "name": "python3"
    },
    "language_info": {
      "name": "python"
    }
  },
  "nbformat": 4,
  "nbformat_minor": 0
}
